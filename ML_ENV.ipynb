{
 "cells": [
  {
   "cell_type": "code",
   "execution_count": 3,
   "id": "initial_id",
   "metadata": {
    "collapsed": true,
    "ExecuteTime": {
     "end_time": "2024-08-17T09:57:14.588595700Z",
     "start_time": "2024-08-17T09:57:13.891377900Z"
    }
   },
   "outputs": [],
   "source": [
    "# Data manipulation and analysis\n",
    "import pandas as pd\n",
    "import numpy as np\n",
    "\n",
    "# Database connection:\n",
    "from sqlalchemy import create_engine\n",
    "\n",
    "# For scaling and preprocessing\n",
    "from sklearn.preprocessing import MinMaxScaler, OneHotEncoder\n",
    "from sklearn.model_selection import train_test_split\n",
    "\n",
    "# For machine learning models\n",
    "from sklearn.ensemble import RandomForestClassifier\n",
    "from sklearn.linear_model import LogisticRegression\n",
    "from sklearn.svm import SVC\n",
    "\n",
    "# For model evaluation\n",
    "from sklearn.metrics import accuracy_score, confusion_matrix, classification_report\n",
    "\n",
    "# For handling dates\n",
    "from datetime import datetime\n",
    "\n",
    "# For visualizations\n",
    "import matplotlib.pyplot as plt\n",
    "import seaborn as sns\n",
    "\n",
    "# For working with files and directories\n",
    "import os\n",
    "\n",
    "# For exporting and saving results\n",
    "import pickle"
   ]
  },
  {
   "cell_type": "code",
   "outputs": [],
   "source": [
    "DATABASE_TYPE = 'mysql'\n",
    "DBAPI = 'pymysql'\n",
    "ENDPOINT = 'localhost'  \n",
    "USER = 'root' \n",
    "PASSWORD = 'mypassword'  \n",
    "PORT = 3306  \n",
    "DATABASE = 'PL_Data'  \n",
    "\n",
    "connection_string = f\"{DATABASE_TYPE}+{DBAPI}://{USER}:{PASSWORD}@{ENDPOINT}:{PORT}/{DATABASE}\"\n",
    "\n",
    "engine = create_engine(connection_string)"
   ],
   "metadata": {
    "collapsed": false,
    "ExecuteTime": {
     "end_time": "2024-08-17T09:57:42.228219900Z",
     "start_time": "2024-08-17T09:57:42.199474100Z"
    }
   },
   "id": "5f0548f460a74d4c",
   "execution_count": 5
  },
  {
   "cell_type": "code",
   "outputs": [],
   "source": [
    "# Step 2: Query the IPF_10082024 table and load it into a DataFrame\n",
    "query = \"SELECT * FROM IPF_10082024\"\n",
    "lifters_df = pd.read_sql(query, engine)\n",
    "\n",
    "initial_count = lifters_df.shape[0]\n",
    "print(f\"Total number of rows in the IPF table before cleaning: {initial_count}\")\n",
    "\n",
    "key_columns = ['Best3SquatKg', 'Best3BenchKg', 'Best3DeadliftKg']\n",
    "\n",
    "lifters_df = lifters_df.dropna(subset=key_columns)\n",
    "\n",
    "cleaned_count = lifters_df.shape[0]\n",
    "print(f\"Total number of rows in the IPF table after cleaning: {cleaned_count}\")\n",
    "\n",
    "dd_lifters_df = lifters_df[lifters_df['Place'] == 'DD']\n",
    "\n",
    "dd_count = dd_lifters_df.shape[0]\n",
    "print(f\"Total number of rows in the IPF table where Place is 'DD': {dd_count}\")"
   ],
   "metadata": {
    "collapsed": false
   },
   "id": "ccb36d767a17f099",
   "execution_count": null
  },
  {
   "cell_type": "code",
   "outputs": [
    {
     "data": {
      "text/plain": "             Name Sex Event Equipment   Age AgeClass BirthYearClass Division  \\\n0     Jade Millar   F   SBD       Raw   NaN     None           None   Junior   \n1  Jacqueline Pan   F   SBD       Raw   NaN     None           None   Junior   \n2  Ursula Pereira   F   SBD       Raw  25.5    24-34          24-39     Open   \n3  Ruth Czarnecki   F   SBD       Raw  26.0    24-34          24-39     Open   \n4  Erica Saqueton   F   SBD       Raw   NaN     None           None     Open   \n\n   BodyweightKg WeightClassKg  ...  State  Federation  ParentFederation  \\\n0         68.15            69  ...   None        APLA               IPF   \n1         75.40            76  ...   None        APLA               IPF   \n2         47.35            52  ...   None        APLA               IPF   \n3         62.70            63  ...   None        APLA               IPF   \n4         68.70            69  ...   None        APLA               IPF   \n\n        Date  MeetCountry  MeetState  MeetTown                       MeetName  \\\n0 2024-08-04    Australia        NSW      None  XGYM Break All Limits Open IV   \n1 2024-08-04    Australia        NSW      None  XGYM Break All Limits Open IV   \n2 2024-08-04    Australia        NSW      None  XGYM Break All Limits Open IV   \n3 2024-08-04    Australia        NSW      None  XGYM Break All Limits Open IV   \n4 2024-08-04    Australia        NSW      None  XGYM Break All Limits Open IV   \n\n  Sanctioned  DDGroupName  \n0        Yes         None  \n1        Yes         None  \n2        Yes         None  \n3        Yes         None  \n4        Yes         None  \n\n[5 rows x 43 columns]",
      "text/html": "<div>\n<style scoped>\n    .dataframe tbody tr th:only-of-type {\n        vertical-align: middle;\n    }\n\n    .dataframe tbody tr th {\n        vertical-align: top;\n    }\n\n    .dataframe thead th {\n        text-align: right;\n    }\n</style>\n<table border=\"1\" class=\"dataframe\">\n  <thead>\n    <tr style=\"text-align: right;\">\n      <th></th>\n      <th>Name</th>\n      <th>Sex</th>\n      <th>Event</th>\n      <th>Equipment</th>\n      <th>Age</th>\n      <th>AgeClass</th>\n      <th>BirthYearClass</th>\n      <th>Division</th>\n      <th>BodyweightKg</th>\n      <th>WeightClassKg</th>\n      <th>...</th>\n      <th>State</th>\n      <th>Federation</th>\n      <th>ParentFederation</th>\n      <th>Date</th>\n      <th>MeetCountry</th>\n      <th>MeetState</th>\n      <th>MeetTown</th>\n      <th>MeetName</th>\n      <th>Sanctioned</th>\n      <th>DDGroupName</th>\n    </tr>\n  </thead>\n  <tbody>\n    <tr>\n      <th>0</th>\n      <td>Jade Millar</td>\n      <td>F</td>\n      <td>SBD</td>\n      <td>Raw</td>\n      <td>NaN</td>\n      <td>None</td>\n      <td>None</td>\n      <td>Junior</td>\n      <td>68.15</td>\n      <td>69</td>\n      <td>...</td>\n      <td>None</td>\n      <td>APLA</td>\n      <td>IPF</td>\n      <td>2024-08-04</td>\n      <td>Australia</td>\n      <td>NSW</td>\n      <td>None</td>\n      <td>XGYM Break All Limits Open IV</td>\n      <td>Yes</td>\n      <td>None</td>\n    </tr>\n    <tr>\n      <th>1</th>\n      <td>Jacqueline Pan</td>\n      <td>F</td>\n      <td>SBD</td>\n      <td>Raw</td>\n      <td>NaN</td>\n      <td>None</td>\n      <td>None</td>\n      <td>Junior</td>\n      <td>75.40</td>\n      <td>76</td>\n      <td>...</td>\n      <td>None</td>\n      <td>APLA</td>\n      <td>IPF</td>\n      <td>2024-08-04</td>\n      <td>Australia</td>\n      <td>NSW</td>\n      <td>None</td>\n      <td>XGYM Break All Limits Open IV</td>\n      <td>Yes</td>\n      <td>None</td>\n    </tr>\n    <tr>\n      <th>2</th>\n      <td>Ursula Pereira</td>\n      <td>F</td>\n      <td>SBD</td>\n      <td>Raw</td>\n      <td>25.5</td>\n      <td>24-34</td>\n      <td>24-39</td>\n      <td>Open</td>\n      <td>47.35</td>\n      <td>52</td>\n      <td>...</td>\n      <td>None</td>\n      <td>APLA</td>\n      <td>IPF</td>\n      <td>2024-08-04</td>\n      <td>Australia</td>\n      <td>NSW</td>\n      <td>None</td>\n      <td>XGYM Break All Limits Open IV</td>\n      <td>Yes</td>\n      <td>None</td>\n    </tr>\n    <tr>\n      <th>3</th>\n      <td>Ruth Czarnecki</td>\n      <td>F</td>\n      <td>SBD</td>\n      <td>Raw</td>\n      <td>26.0</td>\n      <td>24-34</td>\n      <td>24-39</td>\n      <td>Open</td>\n      <td>62.70</td>\n      <td>63</td>\n      <td>...</td>\n      <td>None</td>\n      <td>APLA</td>\n      <td>IPF</td>\n      <td>2024-08-04</td>\n      <td>Australia</td>\n      <td>NSW</td>\n      <td>None</td>\n      <td>XGYM Break All Limits Open IV</td>\n      <td>Yes</td>\n      <td>None</td>\n    </tr>\n    <tr>\n      <th>4</th>\n      <td>Erica Saqueton</td>\n      <td>F</td>\n      <td>SBD</td>\n      <td>Raw</td>\n      <td>NaN</td>\n      <td>None</td>\n      <td>None</td>\n      <td>Open</td>\n      <td>68.70</td>\n      <td>69</td>\n      <td>...</td>\n      <td>None</td>\n      <td>APLA</td>\n      <td>IPF</td>\n      <td>2024-08-04</td>\n      <td>Australia</td>\n      <td>NSW</td>\n      <td>None</td>\n      <td>XGYM Break All Limits Open IV</td>\n      <td>Yes</td>\n      <td>None</td>\n    </tr>\n  </tbody>\n</table>\n<p>5 rows × 43 columns</p>\n</div>"
     },
     "execution_count": 19,
     "metadata": {},
     "output_type": "execute_result"
    }
   ],
   "source": [
    "# Step 3: Create groups of lifters that have competed against drug-disqualified lifters based on:\n",
    "# Weightclass (implicitly also Sex)\n",
    "# Division\n",
    "# Equipment\n",
    "# Date\n",
    "\n",
    "# Convert 'Date' column to datetime format\n",
    "lifters_df['Date'] = pd.to_datetime(lifters_df['Date'], errors='coerce')\n",
    "\n",
    "# Define the relevant columns for grouping\n",
    "grouping_columns = ['WeightClassKg', 'Sex', 'Division', 'Equipment', 'MeetName', 'Date']\n",
    "\n",
    "# Initialize the new 'DDGroupName' column with empty values\n",
    "lifters_df['DDGroupName'] = None\n",
    "\n",
    "# Group by these columns\n",
    "grouped = lifters_df.groupby(grouping_columns)\n",
    "\n",
    "# Step 2: Loop through each group and assign a descriptive group name if there is a DD lifter\n",
    "for name, group in grouped:\n",
    "    if 'DD' in group['Place'].values:\n",
    "        # Generate a descriptive group name by concatenating the grouping column values\n",
    "        # Ensure that the Date is formatted properly\n",
    "        descriptive_group_name = f\"{name[0]}_{name[1]}_{name[2]}_{name[3]}_{name[4]}_{name[5].strftime('%Y-%m-%d')}\"\n",
    "        \n",
    "        # Assign this descriptive group name to all lifters in the group\n",
    "        lifters_df.loc[group.index, 'DDGroupName'] = descriptive_group_name\n",
    "\n",
    "# Display the updated DataFrame to check the results\n",
    "lifters_df.head()\n"
   ],
   "metadata": {
    "collapsed": false,
    "ExecuteTime": {
     "end_time": "2024-08-17T10:42:02.441966300Z",
     "start_time": "2024-08-17T10:41:44.283385400Z"
    }
   },
   "id": "97a8c043bf476db9",
   "execution_count": 19
  },
  {
   "cell_type": "code",
   "outputs": [
    {
     "name": "stdout",
     "output_type": "stream",
     "text": [
      "     Place  TotalKg                                        DDGroupName\n",
      "1847    DD      NaN  83_M_Masters 1_Single-ply_World Masters Classi...\n",
      "1848     1    650.0  83_M_Masters 1_Single-ply_World Masters Classi...\n",
      "2310     1    525.0  67.5_M_Masters 2_Single-ply_World Masters Powe...\n",
      "2311     2    520.0  67.5_M_Masters 2_Single-ply_World Masters Powe...\n",
      "2312     3    472.5  67.5_M_Masters 2_Single-ply_World Masters Powe...\n",
      "2313    DD      NaN  67.5_M_Masters 2_Single-ply_World Masters Powe...\n",
      "2329     1    720.0  90_M_Masters 2_Single-ply_World Masters Powerl...\n",
      "2330     2    712.5  90_M_Masters 2_Single-ply_World Masters Powerl...\n",
      "2331     3    705.0  90_M_Masters 2_Single-ply_World Masters Powerl...\n",
      "2332     4    690.0  90_M_Masters 2_Single-ply_World Masters Powerl...\n",
      "2333     5    652.5  90_M_Masters 2_Single-ply_World Masters Powerl...\n",
      "2334     6    652.5  90_M_Masters 2_Single-ply_World Masters Powerl...\n",
      "2335     7    630.0  90_M_Masters 2_Single-ply_World Masters Powerl...\n",
      "2336     8    605.0  90_M_Masters 2_Single-ply_World Masters Powerl...\n",
      "2337     9    550.0  90_M_Masters 2_Single-ply_World Masters Powerl...\n",
      "2341    DD      NaN  90_M_Masters 2_Single-ply_World Masters Powerl...\n",
      "3807     1    926.0  120_M_Juniors_Raw_World Junior and Sub-Junior ...\n",
      "3808     4    865.0  120_M_Juniors_Raw_World Junior and Sub-Junior ...\n",
      "3810     2    925.5  120_M_Juniors_Raw_World Junior and Sub-Junior ...\n",
      "3819     3    875.0  120_M_Juniors_Raw_World Junior and Sub-Junior ...\n",
      "3832    12    745.0  120_M_Juniors_Raw_World Junior and Sub-Junior ...\n",
      "3846     6    832.5  120_M_Juniors_Raw_World Junior and Sub-Junior ...\n",
      "3848     7    822.5  120_M_Juniors_Raw_World Junior and Sub-Junior ...\n",
      "3862    DD      NaN  120_M_Juniors_Raw_World Junior and Sub-Junior ...\n",
      "3875    13    700.0  120_M_Juniors_Raw_World Junior and Sub-Junior ...\n",
      "3965    11    765.0  120_M_Juniors_Raw_World Junior and Sub-Junior ...\n",
      "3966     5    852.5  120_M_Juniors_Raw_World Junior and Sub-Junior ...\n",
      "3968     9    805.0  120_M_Juniors_Raw_World Junior and Sub-Junior ...\n",
      "3977    10    780.0  120_M_Juniors_Raw_World Junior and Sub-Junior ...\n",
      "3999     8    812.5  120_M_Juniors_Raw_World Junior and Sub-Junior ...\n",
      "4012    14    677.5  120_M_Juniors_Raw_World Junior and Sub-Junior ...\n",
      "4519     1    515.0  84+_F_Open_Raw_World Classic Powerlifting Cup_...\n",
      "4520     2    437.5  84+_F_Open_Raw_World Classic Powerlifting Cup_...\n",
      "4521     3    412.5  84+_F_Open_Raw_World Classic Powerlifting Cup_...\n",
      "4522     4    405.0  84+_F_Open_Raw_World Classic Powerlifting Cup_...\n",
      "4523     5    392.5  84+_F_Open_Raw_World Classic Powerlifting Cup_...\n",
      "4524     6    315.0  84+_F_Open_Raw_World Classic Powerlifting Cup_...\n",
      "4525    DD      NaN  84+_F_Open_Raw_World Classic Powerlifting Cup_...\n",
      "4799     1    620.0  82.5_F_Open_Single-ply_World Powerlifting Cham...\n",
      "4800     2    600.0  82.5_F_Open_Single-ply_World Powerlifting Cham...\n",
      "Total number of valid groups with at least two competitors and one non-DD competitor: 566\n"
     ]
    }
   ],
   "source": [
    "# Step 1: Filter the groups where DDGroupName is not null\n",
    "dd_grouped_lifters = lifters_df[lifters_df['DDGroupName'].notnull()]\n",
    "\n",
    "# Step 2: Group by DDGroupName and filter groups\n",
    "valid_groups = dd_grouped_lifters.groupby('DDGroupName').filter(lambda x: len(x) >= 2 and (x['Place'] != 'DD').any())\n",
    "\n",
    "# Step 3: Display the first 40 rows of valid groups showing Place, TotalKg, and DDGroupName\n",
    "print(valid_groups[['Place', 'TotalKg', 'DDGroupName']].head(40))\n",
    "\n",
    "# Display the total number of valid groups\n",
    "num_valid_groups = valid_groups['DDGroupName'].nunique()\n",
    "print(f\"Total number of valid groups with at least two competitors and one non-DD competitor: {num_valid_groups}\")\n"
   ],
   "metadata": {
    "collapsed": false,
    "ExecuteTime": {
     "end_time": "2024-08-17T10:44:07.534791Z",
     "start_time": "2024-08-17T10:44:07.361357700Z"
    }
   },
   "id": "da5f394dc8fdc584",
   "execution_count": 21
  },
  {
   "cell_type": "code",
   "outputs": [],
   "source": [
    "\n",
    "# Initialize dictionaries to store normalized performance values for each combination\n",
    "winner_normalized_values_by_category = {}\n",
    "dd_normalized_values_by_category = {}\n",
    "\n",
    "# Categories for sex and equipment\n",
    "sex_categories = ['M', 'F']\n",
    "equipment_categories = ['Raw', 'Single-ply']\n",
    "\n",
    "# Initialize dictionaries to store counters for each category\n",
    "dd_better_than_winner_count_by_category = {}\n",
    "dd_below_group_average_count_by_category = {}\n",
    "\n",
    "# Initialize lists for each combination\n",
    "for sex in sex_categories:\n",
    "    for equipment in equipment_categories:\n",
    "        category = f\"{sex}_{equipment}\"\n",
    "        winner_normalized_values_by_category[category] = []\n",
    "        dd_normalized_values_by_category[category] = []\n",
    "        dd_better_than_winner_count_by_category[category] = 0\n",
    "        dd_below_group_average_count_by_category[category] = 0\n"
   ],
   "metadata": {
    "collapsed": false,
    "ExecuteTime": {
     "end_time": "2024-08-17T11:05:09.888329100Z",
     "start_time": "2024-08-17T11:05:09.874328800Z"
    }
   },
   "id": "e275b986bfd53984",
   "execution_count": 33
  },
  {
   "cell_type": "code",
   "outputs": [],
   "source": [
    "# Iterate over each valid group\n",
    "for group_name, group in valid_groups.groupby('DDGroupName'):\n",
    "    # Sum the lifts to get total performance for each competitor\n",
    "    group['Total_Lifts'] = group['Best3SquatKg'] + group['Best3BenchKg'] + group['Best3DeadliftKg']\n",
    "    \n",
    "    # Calculate the group average performance\n",
    "    group_avg_performance = group['Total_Lifts'].mean()\n",
    "    \n",
    "    # Get the sex and equipment type for this group (assuming homogeneity within the group)\n",
    "    sex = group['Sex'].iloc[0]\n",
    "    equipment = group['Equipment'].iloc[0]\n",
    "    category = f\"{sex}_{equipment}\"\n",
    "    \n",
    "    # Get winner's performance (Place = 1)\n",
    "    winner_performance = group[group['Place'] == '1']['Total_Lifts'].mean()\n",
    "    \n",
    "    # Get DD lifter(s) performance\n",
    "    dd_performance = group[group['Place'] == 'DD']['Total_Lifts'].mean()\n",
    "    \n",
    "    # Normalize the performances with respect to the group average\n",
    "    if group_avg_performance and np.isfinite(group_avg_performance):  # Ensure we don't divide by zero or non-finite values\n",
    "        normalized_winner_performance = (winner_performance / group_avg_performance) * 100\n",
    "        normalized_dd_performance = (dd_performance / group_avg_performance) * 100\n",
    "        \n",
    "        # Store the values in the appropriate category\n",
    "        if np.isfinite(normalized_winner_performance):\n",
    "            winner_normalized_values_by_category[category].append(normalized_winner_performance)\n",
    "        if np.isfinite(normalized_dd_performance):\n",
    "            dd_normalized_values_by_category[category].append(normalized_dd_performance)\n"
   ],
   "metadata": {
    "collapsed": false,
    "ExecuteTime": {
     "end_time": "2024-08-17T11:05:20.807803600Z",
     "start_time": "2024-08-17T11:05:19.665982100Z"
    }
   },
   "id": "bb544ee88bf821a8",
   "execution_count": 34
  },
  {
   "cell_type": "code",
   "outputs": [],
   "source": [
    "# Calculate the overall averages for each category\n",
    "overall_avg_winner_performance_by_category = {}\n",
    "overall_avg_dd_performance_by_category = {}\n",
    "\n",
    "for category in winner_normalized_values_by_category:\n",
    "    if winner_normalized_values_by_category[category] and dd_normalized_values_by_category[category]:\n",
    "        overall_avg_winner_performance_by_category[category] = sum(winner_normalized_values_by_category[category]) / len(winner_normalized_values_by_category[category])\n",
    "        overall_avg_dd_performance_by_category[category] = sum(dd_normalized_values_by_category[category]) / len(dd_normalized_values_by_category[category])\n"
   ],
   "metadata": {
    "collapsed": false,
    "ExecuteTime": {
     "end_time": "2024-08-17T11:05:45.733504300Z",
     "start_time": "2024-08-17T11:05:45.699212200Z"
    }
   },
   "id": "248895412174accb",
   "execution_count": 35
  },
  {
   "cell_type": "code",
   "outputs": [
    {
     "data": {
      "text/plain": "<Figure size 1200x800 with 1 Axes>",
      "image/png": "[encoded data removed]"
     },
     "metadata": {},
     "output_type": "display_data"
    }
   ],
   "source": [
    "# Create a bar chart for each category\n",
    "categories = []\n",
    "winner_performance_values = []\n",
    "dd_performance_values = []\n",
    "\n",
    "for category in overall_avg_winner_performance_by_category:\n",
    "    categories.append(category)\n",
    "    winner_performance_values.append(overall_avg_winner_performance_by_category[category])\n",
    "    dd_performance_values.append(overall_avg_dd_performance_by_category[category])\n",
    "\n",
    "# Plot the bar chart\n",
    "plt.figure(figsize=(12, 8))\n",
    "bar_width = 0.35\n",
    "index = np.arange(len(categories))\n",
    "\n",
    "plt.bar(index, winner_performance_values, bar_width, label='Winner Performance', color='blue')\n",
    "plt.bar(index + bar_width, dd_performance_values, bar_width, label='DD Performance', color='orange')\n",
    "\n",
    "plt.xlabel('Category (Sex & Equipment)')\n",
    "plt.ylabel('Normalized Performance (Group Avg = 100)')\n",
    "plt.title('Comparison of Normalized Performances by Sex and Equipment')\n",
    "plt.xticks(index + bar_width / 2, categories, rotation=45, ha='right')\n",
    "plt.legend()\n",
    "\n",
    "plt.tight_layout()\n",
    "plt.show()\n"
   ],
   "metadata": {
    "collapsed": false,
    "ExecuteTime": {
     "end_time": "2024-08-17T11:05:54.723031Z",
     "start_time": "2024-08-17T11:05:54.551793600Z"
    }
   },
   "id": "935a374a0055bf88",
   "execution_count": 36
  },
  {
   "cell_type": "code",
   "outputs": [],
   "source": [
    "# Iterate again to count DD lifters who performed better than the winner or below the group average\n",
    "for group_name, group in valid_groups.groupby('DDGroupName'):\n",
    "    # Sum the lifts to get total performance for each competitor\n",
    "    group['Total_Lifts'] = group['Best3SquatKg'] + group['Best3BenchKg'] + group['Best3DeadliftKg']\n",
    "    \n",
    "    # Calculate the group average performance\n",
    "    group_avg_performance = group['Total_Lifts'].mean()\n",
    "    \n",
    "    # Get the sex and equipment type for this group\n",
    "    sex = group['Sex'].iloc[0]\n",
    "    equipment = group['Equipment'].iloc[0]\n",
    "    category = f\"{sex}_{equipment}\"\n",
    "    \n",
    "    # Get winner's performance (Place = 1)\n",
    "    winner_performance = group[group['Place'] == '1']['Total_Lifts'].mean()\n",
    "    \n",
    "    # Get DD lifter(s) performance\n",
    "    dd_lifters = group[group['Place'] == 'DD']\n",
    "    \n",
    "    # Perform comparisons\n",
    "    for _, dd_lifter in dd_lifters.iterrows():\n",
    "        dd_performance = dd_lifter['Total_Lifts']\n",
    "        \n",
    "        # Compare DD lifter with the winner\n",
    "        if dd_performance > winner_performance:\n",
    "            dd_better_than_winner_count_by_category[category] += 1\n",
    "        \n",
    "        # Compare DD lifter with the group average\n",
    "        if dd_performance < group_avg_performance:\n",
    "            dd_below_group_average_count_by_category[category] += 1\n"
   ],
   "metadata": {
    "collapsed": false,
    "ExecuteTime": {
     "end_time": "2024-08-17T11:06:13.615869200Z",
     "start_time": "2024-08-17T11:06:12.345793600Z"
    }
   },
   "id": "d3835bca8cb21b28",
   "execution_count": 37
  },
  {
   "cell_type": "code",
   "outputs": [
    {
     "name": "stdout",
     "output_type": "stream",
     "text": [
      "Category M_Raw:\n",
      "Percentage of DD lifters who performed better than the winner: 45.35%\n",
      "Percentage of DD lifters who performed below the group average: 14.53%\n",
      "--------------------------------------------------\n",
      "Category M_Single-ply:\n",
      "Percentage of DD lifters who performed better than the winner: 38.23%\n",
      "Percentage of DD lifters who performed below the group average: 22.87%\n",
      "--------------------------------------------------\n",
      "Category F_Raw:\n",
      "Percentage of DD lifters who performed better than the winner: 65.85%\n",
      "Percentage of DD lifters who performed below the group average: 21.95%\n",
      "--------------------------------------------------\n",
      "Category F_Single-ply:\n",
      "Percentage of DD lifters who performed better than the winner: 46.67%\n",
      "Percentage of DD lifters who performed below the group average: 30.00%\n",
      "--------------------------------------------------\n"
     ]
    }
   ],
   "source": [
    "# Calculate percentages for each category\n",
    "for category in dd_better_than_winner_count_by_category:\n",
    "    total_dd_lifters_in_category = len(dd_normalized_values_by_category[category])\n",
    "    if total_dd_lifters_in_category > 0:\n",
    "        percentage_better_than_winner = (dd_better_than_winner_count_by_category[category] / total_dd_lifters_in_category) * 100\n",
    "        percentage_below_group_average = (dd_below_group_average_count_by_category[category] / total_dd_lifters_in_category) * 100\n",
    "        print(f\"Category {category}:\")\n",
    "        print(f\"Percentage of DD lifters who performed better than the winner: {percentage_better_than_winner:.2f}%\")\n",
    "        print(f\"Percentage of DD lifters who performed below the group average: {percentage_below_group_average:.2f}%\")\n",
    "        print('-' * 50)\n"
   ],
   "metadata": {
    "collapsed": false,
    "ExecuteTime": {
     "end_time": "2024-08-17T11:06:21.519737800Z",
     "start_time": "2024-08-17T11:06:21.494429700Z"
    }
   },
   "id": "a97b75e12a54261a",
   "execution_count": 38
  },
  {
   "cell_type": "code",
   "outputs": [],
   "source": [],
   "metadata": {
    "collapsed": false
   },
   "id": "5b9cd700f710ccec"
  }
 ],
 "metadata": {
  "kernelspec": {
   "display_name": "Python 3",
   "language": "python",
   "name": "python3"
  },
  "language_info": {
   "codemirror_mode": {
    "name": "ipython",
    "version": 2
   },
   "file_extension": ".py",
   "mimetype": "text/x-python",
   "name": "python",
   "nbconvert_exporter": "python",
   "pygments_lexer": "ipython2",
   "version": "2.7.6"
  }
 },
 "nbformat": 4,
 "nbformat_minor": 5
}
